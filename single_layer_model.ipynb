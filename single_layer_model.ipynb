{
 "cells": [
  {
   "cell_type": "markdown",
   "source": [
    "# One Neuron Model.\n",
    "Simple linear classifier."
   ],
   "metadata": {
    "collapsed": false
   }
  },
  {
   "cell_type": "markdown",
   "source": [
    "# Libraries"
   ],
   "metadata": {
    "collapsed": false
   }
  },
  {
   "cell_type": "code",
   "execution_count": 1,
   "metadata": {
    "collapsed": true
   },
   "outputs": [],
   "source": [
    "import torch\n",
    "from torch import nn\n",
    "from torch.utils.data import DataLoader\n",
    "\n",
    "import torchvision\n",
    "from torchvision import datasets, transforms\n",
    "from torchvision.transforms import ToTensor\n",
    "\n",
    "import matplotlib.pyplot as plt\n",
    "import numpy as np\n",
    "import pandas as pd\n",
    "\n",
    "import random\n",
    "import requests\n",
    "from pathlib import Path\n",
    "from tqdm.auto import tqdm"
   ]
  },
  {
   "cell_type": "markdown",
   "source": [
    "## GPU check"
   ],
   "metadata": {
    "collapsed": false
   }
  },
  {
   "cell_type": "code",
   "execution_count": 2,
   "outputs": [
    {
     "name": "stdout",
     "output_type": "stream",
     "text": [
      "Model training on: cuda\n"
     ]
    }
   ],
   "source": [
    "if torch.cuda.is_available():\n",
    "    device = \"cuda\"\n",
    "else:\n",
    "    device = \"cpu\"\n",
    "\n",
    "print(f\"Model training on: {device}\")"
   ],
   "metadata": {
    "collapsed": false
   }
  },
  {
   "cell_type": "markdown",
   "source": [
    "# Dataset loading"
   ],
   "metadata": {
    "collapsed": false
   }
  },
  {
   "cell_type": "code",
   "execution_count": 3,
   "outputs": [],
   "source": [
    "train_data = datasets.MNIST(\n",
    "    root= \"MNIST_Data/train/\",\n",
    "    train= True,\n",
    "    download= True,\n",
    "    transform= ToTensor(),\n",
    "    target_transform = None\n",
    ")\n",
    "\n",
    "test_data = datasets.MNIST(\n",
    "    root= \"MNIST_Data/test/\",\n",
    "    train= False,\n",
    "    download= True,\n",
    "    transform= ToTensor(),\n",
    "    target_transform = None\n",
    ")"
   ],
   "metadata": {
    "collapsed": false
   }
  },
  {
   "cell_type": "code",
   "execution_count": 4,
   "outputs": [
    {
     "name": "stdout",
     "output_type": "stream",
     "text": [
      "Train Data:60000, Test Data:10000\n"
     ]
    }
   ],
   "source": [
    "print(f\"Train Data:{len(train_data)}, Test Data:{len(test_data)}\")"
   ],
   "metadata": {
    "collapsed": false
   }
  },
  {
   "cell_type": "code",
   "execution_count": 5,
   "outputs": [
    {
     "data": {
      "text/plain": "{'0 - zero': 0,\n '1 - one': 1,\n '2 - two': 2,\n '3 - three': 3,\n '4 - four': 4,\n '5 - five': 5,\n '6 - six': 6,\n '7 - seven': 7,\n '8 - eight': 8,\n '9 - nine': 9}"
     },
     "execution_count": 5,
     "metadata": {},
     "output_type": "execute_result"
    }
   ],
   "source": [
    "train_data.class_to_idx"
   ],
   "metadata": {
    "collapsed": false
   }
  },
  {
   "cell_type": "markdown",
   "source": [
    "## Plotting demo data"
   ],
   "metadata": {
    "collapsed": false
   }
  },
  {
   "cell_type": "code",
   "execution_count": 6,
   "outputs": [
    {
     "data": {
      "text/plain": "Text(0.5, 1.0, 'Given Label: 9')"
     },
     "execution_count": 6,
     "metadata": {},
     "output_type": "execute_result"
    },
    {
     "data": {
      "text/plain": "<Figure size 640x480 with 1 Axes>",
      "image/png": "[encoded data removed]"
     },
     "metadata": {},
     "output_type": "display_data"
    }
   ],
   "source": [
    "demo = int(random.random()*10000)       # generating random image to show\n",
    "# print(demo)\n",
    "\n",
    "image,label = train_data[demo]\n",
    "plt.imshow(image.squeeze(), cmap=\"inferno\")\n",
    "plt.title(f\"Given Label: {label}\")"
   ],
   "metadata": {
    "collapsed": false
   }
  },
  {
   "cell_type": "markdown",
   "source": [
    "# Dataloader"
   ],
   "metadata": {
    "collapsed": false
   }
  },
  {
   "cell_type": "code",
   "execution_count": 7,
   "outputs": [],
   "source": [
    "batch_size = 32\n",
    "\n",
    "train_Dataloader = DataLoader(\n",
    "    dataset = train_data,\n",
    "    batch_size = batch_size,\n",
    "    shuffle = True\n",
    ")\n",
    "\n",
    "test_Dataloader = DataLoader(\n",
    "    dataset = test_data,\n",
    "    batch_size = batch_size,\n",
    "    shuffle = True\n",
    ")"
   ],
   "metadata": {
    "collapsed": false
   }
  },
  {
   "cell_type": "markdown",
   "source": [
    "# Model"
   ],
   "metadata": {
    "collapsed": false
   }
  },
  {
   "cell_type": "code",
   "execution_count": 8,
   "outputs": [],
   "source": [
    "class single_Neuron(nn.Module):\n",
    "    def __init__(self, input, output, hidden):\n",
    "        super().__init__()\n",
    "        self.layer_stack = nn.Sequential(\n",
    "            nn.Flatten(),\n",
    "            nn.LazyLinear(out_features = output)\n",
    "        )\n",
    "\n",
    "    def forward(self,x):\n",
    "        return self.layer_stack(x)"
   ],
   "metadata": {
    "collapsed": false
   }
  },
  {
   "cell_type": "code",
   "execution_count": 9,
   "outputs": [
    {
     "name": "stdout",
     "output_type": "stream",
     "text": [
      "single_Neuron(\n",
      "  (layer_stack): Sequential(\n",
      "    (0): Flatten(start_dim=1, end_dim=-1)\n",
      "    (1): LazyLinear(in_features=0, out_features=10, bias=True)\n",
      "  )\n",
      ")\n"
     ]
    },
    {
     "name": "stderr",
     "output_type": "stream",
     "text": [
      "C:\\Users\\niloy\\anaconda3\\envs\\pytorch1.13\\lib\\site-packages\\torch\\nn\\modules\\lazy.py:180: UserWarning: Lazy modules are a new feature under heavy development so changes to the API or functionality can happen at any moment.\n",
      "  warnings.warn('Lazy modules are a new feature under heavy development '\n"
     ]
    }
   ],
   "source": [
    "model = single_Neuron(\n",
    "    input = 784,        # 28*28*1 = 784\n",
    "    hidden = 2,\n",
    "    output = len(train_data.class_to_idx)\n",
    ").to(device)\n",
    "\n",
    "print(model)"
   ],
   "metadata": {
    "collapsed": false
   }
  },
  {
   "cell_type": "code",
   "execution_count": 10,
   "outputs": [
    {
     "data": {
      "text/plain": "OrderedDict([('layer_stack.1.weight', <UninitializedParameter>),\n             ('layer_stack.1.bias', <UninitializedParameter>)])"
     },
     "execution_count": 10,
     "metadata": {},
     "output_type": "execute_result"
    }
   ],
   "source": [
    "model.state_dict()"
   ],
   "metadata": {
    "collapsed": false
   }
  },
  {
   "cell_type": "code",
   "execution_count": 11,
   "outputs": [
    {
     "name": "stdout",
     "output_type": "stream",
     "text": [
      "Python script already downloaded\n"
     ]
    }
   ],
   "source": [
    "# Helper functions from daniel bourke\n",
    "\n",
    "if Path(\"helper_functions.py\").is_file():\n",
    "    print(\"Python script already downloaded\")\n",
    "else:\n",
    "    print(\"Downloading helper_functions.py script\")\n",
    "    request = requests.get(\"https://raw.githubusercontent.com/mrdbourke/pytorch-deep-learning/main/helper_functions.py\")\n",
    "    with open(\"helper_functions.py\", \"wb\") as f:\n",
    "        f.write(request.content)"
   ],
   "metadata": {
    "collapsed": false
   }
  },
  {
   "cell_type": "code",
   "execution_count": 12,
   "outputs": [],
   "source": [
    "from helper_functions import accuracy_fn, print_train_time\n",
    "from timeit import default_timer as timer"
   ],
   "metadata": {
    "collapsed": false
   }
  },
  {
   "cell_type": "markdown",
   "source": [
    "# Loss Function and Optimizer\n",
    "\n",
    "faster learning rate => less accurate results\n",
    "slower learning rate => more accurate results"
   ],
   "metadata": {
    "collapsed": false
   }
  },
  {
   "cell_type": "code",
   "execution_count": 13,
   "outputs": [],
   "source": [
    "learning_rate = 0.01\n",
    "\n",
    "loss_fn = nn.CrossEntropyLoss()\n",
    "optimizer = torch.optim.SGD(\n",
    "    params= model.parameters(),\n",
    "    lr = learning_rate\n",
    ")"
   ],
   "metadata": {
    "collapsed": false
   }
  },
  {
   "cell_type": "markdown",
   "source": [
    "# Training the Model"
   ],
   "metadata": {
    "collapsed": false
   }
  },
  {
   "cell_type": "code",
   "execution_count": 20,
   "outputs": [
    {
     "name": "stdout",
     "output_type": "stream",
     "text": [
      "Epoch: 0\n",
      "Train loss: 0.32 | Test loss: 0.30 | Accuracy: 91.71\n",
      "\n",
      "\n",
      "Train time on cuda:0: 10.248 seconds\n",
      "Epoch: 1\n",
      "Train loss: 0.31 | Test loss: 0.30 | Accuracy: 91.78\n",
      "\n",
      "\n",
      "Train time on cuda:0: 20.844 seconds\n",
      "Epoch: 2\n",
      "Train loss: 0.31 | Test loss: 0.30 | Accuracy: 91.84\n",
      "\n",
      "\n",
      "Train time on cuda:0: 31.001 seconds\n",
      "Epoch: 3\n",
      "Train loss: 0.31 | Test loss: 0.30 | Accuracy: 91.68\n",
      "\n",
      "\n",
      "Train time on cuda:0: 41.082 seconds\n",
      "Epoch: 4\n",
      "Train loss: 0.30 | Test loss: 0.29 | Accuracy: 91.88\n",
      "\n",
      "\n",
      "Train time on cuda:0: 51.237 seconds\n",
      "Epoch: 5\n",
      "Train loss: 0.30 | Test loss: 0.29 | Accuracy: 91.84\n",
      "\n",
      "\n",
      "Train time on cuda:0: 61.667 seconds\n",
      "Epoch: 6\n",
      "Train loss: 0.30 | Test loss: 0.29 | Accuracy: 91.88\n",
      "\n",
      "\n",
      "Train time on cuda:0: 72.059 seconds\n",
      "Epoch: 7\n",
      "Train loss: 0.30 | Test loss: 0.29 | Accuracy: 91.99\n",
      "\n",
      "\n",
      "Train time on cuda:0: 82.559 seconds\n",
      "Epoch: 8\n",
      "Train loss: 0.30 | Test loss: 0.29 | Accuracy: 92.04\n",
      "\n",
      "\n",
      "Train time on cuda:0: 92.756 seconds\n",
      "Epoch: 9\n",
      "Train loss: 0.29 | Test loss: 0.29 | Accuracy: 92.04\n",
      "\n",
      "\n",
      "Train time on cuda:0: 103.183 seconds\n"
     ]
    }
   ],
   "source": [
    "start_timer =timer()\n",
    "epochs = 10\n",
    "\n",
    "for e in range(epochs):\n",
    "    print(f\"Epoch: {e}\")\n",
    "    train_loss = 0\n",
    "\n",
    "    # Load the data in batches to avoid memory problems\n",
    "    for batch, (X,y) in enumerate(train_Dataloader):\n",
    "        X,y = X.to(device), y.to(device)    # training data\n",
    "\n",
    "        model.train()                       # model starts training\n",
    "        y_pred = model(X)                   # forward pass\n",
    "        loss = loss_fn(y_pred,y)            # calculating loss\n",
    "        train_loss += loss                  # accumulate loss\n",
    "        optimizer.zero_grad()               # clearing gradients\n",
    "\n",
    "        loss.backward()                     # back propagation\n",
    "        optimizer.step()                    # single optimization step\n",
    "    train_loss /= len(train_Dataloader)     # loss across all data\n",
    "\n",
    "    # Test the model on unseen data\n",
    "    test_loss, test_acc = 0,0\n",
    "    model.eval()\n",
    "\n",
    "    \"\"\"\n",
    "    InferenceMode is a new context manager analogous to no_grad to be used when\n",
    "    you are certain your operations will have no interactions with autograd (e.g., model training).\n",
    "    \"\"\"\n",
    "\n",
    "    with torch.inference_mode():\n",
    "        for batch, (X_test, y_test) in enumerate(test_Dataloader):\n",
    "            X_test, y_test = X_test.to(device), y_test.to(device)\n",
    "\n",
    "            test_pred = model(X_test)                   # model predicting on test data\n",
    "            test_loss += loss_fn(test_pred, y_test)     # Calculate loss and accuracy\n",
    "            test_acc += accuracy_fn(y_true=y_test, y_pred=test_pred.argmax(dim=1))\n",
    "\n",
    "        # Calculate loss and accuracy\n",
    "        test_loss /= len(test_Dataloader)\n",
    "        test_acc /= len(test_Dataloader)\n",
    "\n",
    "    print(f\"Train loss: {train_loss:.2f} | Test loss: {test_loss:.2f} | Accuracy: {test_acc:.2f}\\n\")\n",
    "\n",
    "    # Stop timer\n",
    "    end_timer = timer()\n",
    "    # Calculate timer difference\n",
    "    total_train_time_model = print_train_time(start=start_timer,\n",
    "                                              end=end_timer,\n",
    "                                              device=str(next(model.parameters()).device))"
   ],
   "metadata": {
    "collapsed": false
   }
  },
  {
   "cell_type": "markdown",
   "source": [
    "# Predicting Random Image"
   ],
   "metadata": {
    "collapsed": false
   }
  },
  {
   "cell_type": "code",
   "execution_count": 15,
   "outputs": [],
   "source": [
    "def make_predictions(model: torch.nn.Module, data: list, device: torch.device = device):\n",
    "    pred_probs = []\n",
    "    model.eval()\n",
    "    with torch.inference_mode():\n",
    "        for sample in data:\n",
    "            # Prepare sample\n",
    "            sample = torch.unsqueeze(sample, dim=0).to(device) # Add an extra dimension and send sample to device\n",
    "\n",
    "            # Forward pass (model outputs raw logit)\n",
    "            pred_logit = model(sample)\n",
    "\n",
    "            # Get prediction probability (logit -> prediction probability)\n",
    "            pred_prob = torch.softmax(pred_logit.squeeze(), dim=0)\n",
    "\n",
    "            # Get pred_prob off GPU for further calculations\n",
    "            pred_probs.append(pred_prob.cpu())\n",
    "\n",
    "    # Stack the pred_probs to turn list into a tensor\n",
    "    return torch.stack(pred_probs)"
   ],
   "metadata": {
    "collapsed": false
   }
  },
  {
   "cell_type": "markdown",
   "source": [
    "# Plotting Prediction"
   ],
   "metadata": {
    "collapsed": false
   }
  },
  {
   "cell_type": "code",
   "execution_count": 16,
   "outputs": [],
   "source": [
    "# function to plot predictions\n",
    "def plot_prediction(test_samples, test_lables):\n",
    "    plt.figure(figsize=(20,8))\n",
    "    n_rows = 2\n",
    "    n_cols = 5\n",
    "\n",
    "    for i, sample in enumerate(test_samples):\n",
    "        plt.subplot(n_rows, n_cols, i+1)\n",
    "        plt.imshow(sample.squeeze(), cmap=\"inferno\")\n",
    "\n",
    "        pred_label = train_data.classes[pred_classes[i]]\n",
    "        truth_label = train_data.classes[test_lables[i]]\n",
    "\n",
    "        title_text = f\"Pred: {pred_label} | Truth: {truth_label}\"\n",
    "\n",
    "        if pred_label == truth_label:\n",
    "            plt.title(title_text,fontsize=10, c = \"g\")\n",
    "        else:\n",
    "            plt.title(title_text, fontsize=10, c = \"r\")\n",
    "\n",
    "        plt.axis(False)"
   ],
   "metadata": {
    "collapsed": false
   }
  },
  {
   "cell_type": "code",
   "execution_count": 17,
   "outputs": [
    {
     "data": {
      "text/plain": "<Figure size 2000x800 with 10 Axes>",
      "image/png": "[encoded data removed]"
     },
     "metadata": {},
     "output_type": "display_data"
    }
   ],
   "source": [
    "test_samples = []\n",
    "test_labels = []\n",
    "\n",
    "for sample, label in random.sample(list(test_data), k = 10):\n",
    "    test_samples.append(sample)\n",
    "    test_labels.append(label)\n",
    "\n",
    "    pred_probs = make_predictions(model=model, data=test_samples)\n",
    "\n",
    "# Turn the prediction probabilities into prediction labels by taking the argmax()\n",
    "pred_classes = pred_probs.argmax(dim=1)\n",
    "\n",
    "# Make Predictions\n",
    "plot_prediction(test_samples, test_labels)"
   ],
   "metadata": {
    "collapsed": false
   }
  }
 ],
 "metadata": {
  "kernelspec": {
   "display_name": "Python 3",
   "language": "python",
   "name": "python3"
  },
  "language_info": {
   "codemirror_mode": {
    "name": "ipython",
    "version": 2
   },
   "file_extension": ".py",
   "mimetype": "text/x-python",
   "name": "python",
   "nbconvert_exporter": "python",
   "pygments_lexer": "ipython2",
   "version": "2.7.6"
  }
 },
 "nbformat": 4,
 "nbformat_minor": 0
}
